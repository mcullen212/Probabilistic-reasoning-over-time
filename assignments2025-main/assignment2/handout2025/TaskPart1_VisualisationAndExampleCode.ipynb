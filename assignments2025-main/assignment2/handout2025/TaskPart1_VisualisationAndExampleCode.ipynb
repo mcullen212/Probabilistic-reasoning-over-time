{
 "cells": [
  {
   "cell_type": "markdown",
   "metadata": {},
   "source": [
    "### Python based viewer tool for \"Probabilistic Reasoning over time\", EDAP01 Artificial Intelligence\n",
    "This notebook has been provided to you by Alexander Dürr, teaching assistant on the course, spring term 2021. It is based on the ideas and structure of the original Java skeleton for this assignment, provided by Elin A. Topp. Contact us (elin_anna.topp at cs.lth.se) in case you need help!"
   ]
  },
  {
   "cell_type": "markdown",
   "metadata": {},
   "source": [
    "### Note: Installing and activating widgets for Jupyter Notebook\n",
    "To be able to display the visualization (dashboard,animations,etc.) you have to initially install the package  if you don't have it yet"
   ]
  },
  {
   "cell_type": "raw",
   "metadata": {},
   "source": [
    "pip install ipywidgets"
   ]
  },
  {
   "cell_type": "markdown",
   "metadata": {},
   "source": [
    "### Note: Use Jupyter Lab for programming, Jupyter Notebook for visualization (optional)\n",
    "This command only enables the extension for jupyter notebook and not in jupyter lab! You can edit from the comfort of jupyter lab though and when you feel like using the widgets just go to\n",
    "\n",
    "Menu bar > Help > Launch Classic Notebook"
   ]
  },
  {
   "cell_type": "raw",
   "metadata": {},
   "source": [
    "jupyter nbextension enable --py widgetsnbextension"
   ]
  },
  {
   "cell_type": "markdown",
   "metadata": {},
   "source": [
    "## Visualisation of the underlying models \n",
    "### (and example code for visualisation of your own solution \n",
    "\n",
    "\n",
    "In _models_, all the actually interesting stuff is located, and in _Filters_ you can / should later write your own core code, right now, it is only a dummy implementation. \n",
    "\n",
    "Note that the simulation / visualization (second code cell, \"inspecting the models, option 2\") assumes to have access to an object of type _Localizer_ which in turn expects the filtering / smoothing to happen in _Filters.HMM_Filters.filter(sensorR)_. This means that IF you want to make use of the visualisation in grid-view (below!) also for the actual tracking, you MUST implement the filtering in _Filters.HMM_Filter.filter(sensorR)_ (or make changes in _Localizer.Localizer.update()_) and use the _Localizer_.\n",
    "\n"
   ]
  },
  {
   "cell_type": "markdown",
   "metadata": {},
   "source": [
    "### Your task 1)\n",
    "\n",
    "Inspect the **sensor models** given in _models_ with the help of the two ways to visualise them suggested below (or add other visualisations). Prepare yourself to answer the following question in your report: “What is the actual observable difference in the two sensor/observation models, and how does this difference affect the localisation with forward filtering in different settings?”. Inspect and later discuss / explain especially the \"no reading\" visualisation of the two observation models (also called sensor)! You should base this discussion on your own inspection of the viewer, i.e. by visualising the different observation (sensor) models (“0”, non-uniform failure, and “1”, uniform failure) in the GUI cell, but of course you can also consult the explanations given in the document DetailedInstructionsAndBackground.\n",
    "\n"
   ]
  },
  {
   "cell_type": "markdown",
   "metadata": {},
   "source": [
    "## Visualisation as heatmap or simple print-outs\n"
   ]
  },
  {
   "cell_type": "code",
   "execution_count": null,
   "metadata": {},
   "outputs": [],
   "source": [
    "from models import *\n",
    "from view_control.Localizer import Localizer\n",
    "import numpy as np\n",
    "\n",
    "# Testing the models, e.g., for an 4x8 grid\n",
    "\n",
    "states = StateModel( 8, 8)\n",
    "loc = Localizer( states, 0)\n",
    "tMat = loc.get_transition_model()\n",
    "sVecs = loc.get_observation_model()\n",
    "tMat.plot_T()\n",
    "sVecs.plot_o_diags()\n",
    "print(sVecs.get_o_reading(0))\n",
    "print(sVecs.get_o_reading(None))\n",
    "\n",
    "print(loc.update())\n",
    "\n",
    "np.set_printoptions(threshold = np.inf)\n",
    "print(sVecs.sum_diags())\n"
   ]
  },
  {
   "cell_type": "markdown",
   "metadata": {},
   "source": [
    "## Visualisation in the grid-world\n",
    "\n"
   ]
  },
  {
   "cell_type": "code",
   "execution_count": 1,
   "metadata": {
    "scrolled": true
   },
   "outputs": [
    {
     "data": {
      "application/vnd.jupyter.widget-view+json": {
       "model_id": "6a75514951c04ae79760c850eecb8af9",
       "version_major": 2,
       "version_minor": 0
      },
      "text/plain": [
       "Output()"
      ]
     },
     "metadata": {},
     "output_type": "display_data"
    },
    {
     "data": {
      "application/vnd.jupyter.widget-view+json": {
       "model_id": "c2e4141c80d04a3a8b75133945f1b241",
       "version_major": 2,
       "version_minor": 0
      },
      "text/plain": [
       "VBox(children=(HBox(children=(IntSlider(value=4, description='Height', max=10, min=4), IntSlider(value=4, desc…"
      ]
     },
     "metadata": {},
     "output_type": "display_data"
    },
    {
     "name": "stdout",
     "output_type": "stream",
     "text": [
      "new simulation started\n",
      "true pose = <1,0, 2>, sensed nothing\n",
      " nbr of moves: 8, avg error: 2.25, nbr correct guesses: 0\n",
      "true pose = <0,0, 2>, sensed nothing\n",
      " nbr of moves: 9, avg error: 2.0, nbr correct guesses: 1\n",
      "true pose = <0,1, 1>, sensed nothing\n",
      " nbr of moves: 10, avg error: 1.9, nbr correct guesses: 1\n",
      "true pose = <0,0, 3>, sensed nothing\n",
      " nbr of moves: 11, avg error: 1.7272727272727273, nbr correct guesses: 2\n",
      "true pose = <1,0, 0>, sensed position = <2,2>, guessed position = <0,0>\n",
      " nbr of moves: 12, avg error: 1.6666666666666667, nbr correct guesses: 2\n",
      "true pose = <1,1, 1>, sensed nothing\n",
      " nbr of moves: 13, avg error: 1.6923076923076923, nbr correct guesses: 2\n",
      "true pose = <2,1, 0>, sensed position = <1,2>, guessed position = <0,0>\n",
      " nbr of moves: 14, avg error: 1.7857142857142858, nbr correct guesses: 2\n"
     ]
    }
   ],
   "source": [
    "# In view_control.Dashboard, there is simply the handling of all the thread based visualisation provided, \n",
    "# no changes needed, but feel free...\n",
    "\n",
    "from view_control import *\n",
    "\n",
    "ROWS = 4\n",
    "COLS = 4\n",
    "\n",
    "# The dashboard creates a state model of the dimensions given by ROWS and COLS, sets up the respective \n",
    "# Transition and Observation models, as well as an instance of class Localizer. The Localizer calls at the \n",
    "# moment a stubb method toDo.Filters.HMMFilter.filter(sensorReading), which just sends back the original \n",
    "# probability distribution - no filtering is done. It is your task to implement something useful there.\n",
    "\n",
    "# Non-uniform failure is the default sensor, sensor 0. Change to 1 if that is your default \n",
    "# (uniform sensor failure)\n",
    "sensorType = 0\n",
    "dash = Dashboard(ROWS, COLS, sensorType)\n",
    "display(dash.db)\n"
   ]
  },
  {
   "cell_type": "code",
   "execution_count": null,
   "metadata": {},
   "outputs": [],
   "source": []
  }
 ],
 "metadata": {
  "kernelspec": {
   "display_name": "Python3.12",
   "language": "python",
   "name": "python3.12"
  },
  "language_info": {
   "codemirror_mode": {
    "name": "ipython",
    "version": 3
   },
   "file_extension": ".py",
   "mimetype": "text/x-python",
   "name": "python",
   "nbconvert_exporter": "python",
   "pygments_lexer": "ipython3",
   "version": "3.12.7"
  }
 },
 "nbformat": 4,
 "nbformat_minor": 4
}
